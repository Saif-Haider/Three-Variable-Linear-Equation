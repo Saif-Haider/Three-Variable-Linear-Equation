{
  "nbformat": 4,
  "nbformat_minor": 0,
  "metadata": {
    "colab": {
      "name": "3 variable linear inequation minimization.ipynb",
      "provenance": [],
      "authorship_tag": "ABX9TyP24Lmbx5m5VUjZfbQ19XY/",
      "include_colab_link": true
    },
    "kernelspec": {
      "name": "python3",
      "display_name": "Python 3"
    }
  },
  "cells": [
    {
      "cell_type": "markdown",
      "metadata": {
        "id": "view-in-github",
        "colab_type": "text"
      },
      "source": [
        "<a href=\"https://colab.research.google.com/github/Saif-Haider/Three-Variable-Linear-Equation/blob/master/3_variable_linear_inequation_minimization.ipynb\" target=\"_parent\"><img src=\"https://colab.research.google.com/assets/colab-badge.svg\" alt=\"Open In Colab\"/></a>"
      ]
    },
    {
      "cell_type": "code",
      "metadata": {
        "id": "Xgt0pM0YgI3L",
        "colab_type": "code",
        "outputId": "e1d394b1-0670-4ca4-9229-0aab67f29282",
        "colab": {
          "base_uri": "https://localhost:8080/",
          "height": 408
        }
      },
      "source": [
        "import pulp  \n",
        "\n",
        "My_optimization_prob = pulp.LpProblem('My_Optimization_Problem', pulp.LpMinimize) \n",
        "\n",
        "# Creating the variables\n",
        "x1 = pulp.LpVariable(\"x1\", lowBound = 0) \n",
        "x2 = pulp.LpVariable(\"x2\", lowBound = 0) \n",
        "x3 = pulp.LpVariable(\"x3\", lowBound = 0)\n",
        "\n",
        "# Adding the Problem and Constraints\n",
        "My_optimization_prob  += 10 * x1 + 2 * x2 - x3\n",
        "My_optimization_prob  += x1 + x2 <= 50\n",
        "My_optimization_prob  += x1 + x2 >=10\n",
        "My_optimization_prob  += x2 + x3 <= 30\n",
        "My_optimization_prob  += x2 + x3 >=7\n",
        "My_optimization_prob  += x1 + x2 + x3 ==60\n",
        "\n",
        "#Printing the Problem and Constraints\n",
        "print(My_optimization_prob) \n",
        "\n",
        "My_optimization_prob.solve()  \n",
        "#printing X1 X2 X3 Z\n",
        "print('x1 = ',pulp.value(x1))\n",
        "print('x2 = ',pulp.value(x2)) \n",
        "print('x3 = ',pulp.value(x3))\n",
        "print('z = ',pulp.value(My_optimization_prob.objective)) \n",
        "\n",
        "\n"
      ],
      "execution_count": 0,
      "outputs": [
        {
          "output_type": "stream",
          "text": [
            "My_Optimization_Problem:\n",
            "MINIMIZE\n",
            "10*x1 + 2*x2 + -1*x3 + 0\n",
            "SUBJECT TO\n",
            "_C1: x1 + x2 <= 50\n",
            "\n",
            "_C2: x1 + x2 >= 10\n",
            "\n",
            "_C3: x2 + x3 <= 30\n",
            "\n",
            "_C4: x2 + x3 >= 7\n",
            "\n",
            "_C5: x1 + x2 + x3 = 60\n",
            "\n",
            "VARIABLES\n",
            "x1 Continuous\n",
            "x2 Continuous\n",
            "x3 Continuous\n",
            "\n",
            "x1 =  30.0\n",
            "x2 =  0.0\n",
            "x3 =  30.0\n",
            "z =  270.0\n"
          ],
          "name": "stdout"
        }
      ]
    },
    {
      "cell_type": "code",
      "metadata": {
        "id": "FGyE5k2NiRx_",
        "colab_type": "code",
        "colab": {}
      },
      "source": [
        ""
      ],
      "execution_count": 0,
      "outputs": []
    }
  ]
}